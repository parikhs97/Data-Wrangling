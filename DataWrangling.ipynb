{
 "cells": [
  {
   "cell_type": "code",
   "execution_count": 956,
   "metadata": {},
   "outputs": [],
   "source": [
    "import pandas as pd\n",
    "import re\n",
    "import glob\n",
    "import copy\n",
    "import matplotlib.pyplot as plt\n"
   ]
  },
  {
   "cell_type": "code",
   "execution_count": 957,
   "metadata": {},
   "outputs": [],
   "source": [
    "def Q1_function():\n",
    "    \"\"\"\n",
    "    :type : None\n",
    "    :rtype: List[String]\n",
    "    \"\"\"\n",
    "    files = glob.glob('../data_raw/*.xlsx') \n",
    "    return files\n",
    "\n"
   ]
  },
  {
   "cell_type": "code",
   "execution_count": 958,
   "metadata": {},
   "outputs": [
    {
     "name": "stdout",
     "output_type": "stream",
     "text": [
      "['../data_raw\\\\Python-QUIZ Coercion (6 min.)-grades.xlsx', '../data_raw\\\\Python-QUIZ Conditionals (6 min.)-grades.xlsx', '../data_raw\\\\Python-QUIZ Dictionaries (10 min.)-grades.xlsx', '../data_raw\\\\Python-QUIZ Exceptions (10 min.)-grades.xlsx', '../data_raw\\\\Python-QUIZ Functions (18 min.)-grades.xlsx', '../data_raw\\\\Python-QUIZ Iterations (6 min.)-grades.xlsx', '../data_raw\\\\Python-QUIZ Lists (10 min.)-grades.xlsx', '../data_raw\\\\Python-QUIZ Sets (7 min)-grades.xlsx', '../data_raw\\\\Python-QUIZ Strings (5 min.)-grades.xlsx', '../data_raw\\\\Python-QUIZ Taxonomy of Python Data Structures (12 min.)-grades.xlsx', '../data_raw\\\\Python-QUIZ Tuples (10 min.)-grades.xlsx']\n"
     ]
    }
   ],
   "source": [
    "# Call the function and print the result. This result is used in subsequent questions.\n",
    "filenames = Q1_function()\n",
    "print(filenames)"
   ]
  },
  {
   "cell_type": "code",
   "execution_count": 959,
   "metadata": {},
   "outputs": [],
   "source": [
    "def Q2_function(files, s):\n",
    "    \"\"\"\n",
    "    :type : List[String], String\n",
    "    :rtype: String\n",
    "    \"\"\"\n",
    "    \n",
    "    for file in files:\n",
    "        if re.search(s,file):\n",
    "            return file\n",
    "    \n",
    "            "
   ]
  },
  {
   "cell_type": "code",
   "execution_count": 960,
   "metadata": {},
   "outputs": [
    {
     "name": "stdout",
     "output_type": "stream",
     "text": [
      "../data_raw\\Python-QUIZ Dictionaries (10 min.)-grades.xlsx\n"
     ]
    }
   ],
   "source": [
    "file = Q2_function(filenames, s = \"Dictionaries\")\n",
    "print(file)"
   ]
  },
  {
   "cell_type": "code",
   "execution_count": 961,
   "metadata": {},
   "outputs": [],
   "source": [
    "def Q3_function(files, s):\n",
    "    \"\"\"\n",
    "    :type : List[String], String\n",
    "    :rtype: Pandas DataFrame\n",
    "    \"\"\"\n",
    "    file = Q2_function(files, s)\n",
    "    df = pd.read_excel(file)\n",
    "    return df\n",
    "    "
   ]
  },
  {
   "cell_type": "code",
   "execution_count": 962,
   "metadata": {},
   "outputs": [
    {
     "name": "stdout",
     "output_type": "stream",
     "text": [
      "    Unnamed: 0     State                  Started on  \\\n",
      "0            0  Finished    February 5 2018  3:19 PM   \n",
      "1            1  Finished    February 4 2018  4:01 PM   \n",
      "2           12  Finished    February 6 2018  3:57 PM   \n",
      "3            2  Finished   February 10 2018  4:05 PM   \n",
      "4            3  Finished    February 4 2018  4:59 PM   \n",
      "5            4  Finished    February 5 2018  5:20 PM   \n",
      "6            5  Finished   February 10 2018  9:49 PM   \n",
      "7            6  Finished    February 5 2018  8:30 PM   \n",
      "8            7  Finished   February 13 2018  4:17 AM   \n",
      "9            8  Finished   February 12 2018  2:19 PM   \n",
      "10           9  Finished  February 13 2018  10:45 AM   \n",
      "11          10  Finished   February 11 2018  1:48 AM   \n",
      "12           4  Finished    February 5 2018  5:20 PM   \n",
      "13           5  Finished   February 10 2018  9:49 PM   \n",
      "14          11  Finished   February 13 2018  7:07 PM   \n",
      "15          12  Finished    February 6 2018  3:57 PM   \n",
      "16          13  Finished    February 5 2018  6:52 PM   \n",
      "17          14  Finished  February 13 2018  11:33 AM   \n",
      "18          15  Finished   February 11 2018  3:39 PM   \n",
      "19           6  Finished    February 5 2018  8:30 PM   \n",
      "20          16  Finished   February 6 2018  10:41 AM   \n",
      "21          17  Finished   February 11 2018  4:20 PM   \n",
      "22          18  Finished   February 12 2018  7:52 PM   \n",
      "23           8  Finished   February 12 2018  2:19 PM   \n",
      "\n",
      "                     Completed       Time taken  Grade/45.00  Q. 1 /5.00  \\\n",
      "0     February 5 2018  3:34 PM  14 mins 16 secs           32           5   \n",
      "1     February 4 2018  4:19 PM  17 mins 54 secs           31           5   \n",
      "2     February 6 2018  4:12 PM  15 mins 44 secs           20           3   \n",
      "3    February 10 2018  4:23 PM          18 mins           30           5   \n",
      "4     February 4 2018  5:16 PM  17 mins 31 secs           26           5   \n",
      "5     February 5 2018  5:38 PM  17 mins 59 secs           25           5   \n",
      "6   February 10 2018  10:07 PM          18 mins           24           5   \n",
      "7     February 5 2018  8:48 PM          18 mins           23           5   \n",
      "8    February 13 2018  4:35 AM    18 mins 1 sec           23           4   \n",
      "9    February 12 2018  2:35 PM  16 mins 44 secs           22           4   \n",
      "10  February 13 2018  11:03 AM    18 mins 1 sec           22           5   \n",
      "11   February 11 2018  2:06 AM          18 mins           21           5   \n",
      "12    February 5 2018  5:38 PM  17 mins 59 secs           25           5   \n",
      "13  February 10 2018  10:07 PM          18 mins           24           5   \n",
      "14   February 13 2018  7:20 PM  12 mins 59 secs           21           4   \n",
      "15    February 6 2018  4:12 PM  15 mins 44 secs           20           3   \n",
      "16    February 5 2018  7:10 PM    18 mins 1 sec           17           4   \n",
      "17  February 13 2018  11:51 AM          18 mins           17           5   \n",
      "18   February 11 2018  3:57 PM    18 mins 1 sec           16           3   \n",
      "19    February 5 2018  8:48 PM          18 mins           23           5   \n",
      "20   February 6 2018  11:30 AM  48 mins 39 secs           15           4   \n",
      "21   February 11 2018  4:38 PM    18 mins 1 sec           13           3   \n",
      "22   February 12 2018  8:07 PM  14 mins 31 secs           13           3   \n",
      "23   February 12 2018  2:35 PM  16 mins 44 secs           22           4   \n",
      "\n",
      "    Q. 2 /10.00  Q. 3 /6.00 Q. 4 /6.00 Q. 5 /12.00 Q. 6 /6.00  id  \n",
      "0             6           6       3.00       12.00       0.00   0  \n",
      "1             8           6          -       12.00       0.00   1  \n",
      "2             4           3          -       10.00       0.00  12  \n",
      "3             6           6       3.00       10.00          -   2  \n",
      "4             6           6       3.00        6.00       0.00   3  \n",
      "5             6           6       6.00        2.00       0.00   4  \n",
      "6             6           6       3.00        4.00          -   5  \n",
      "7             6           0       0.00        6.00       6.00   6  \n",
      "8             4           6       3.00        6.00       0.00   7  \n",
      "9             4           6       0.00        8.00       0.00   8  \n",
      "10            8           6       3.00           -          -   9  \n",
      "11           10           6          -           -          -  10  \n",
      "12            6           6       6.00        2.00       0.00   4  \n",
      "13            6           6       3.00        4.00          -   5  \n",
      "14            4           3       0.00        4.00       6.00  11  \n",
      "15            4           3          -       10.00       0.00  12  \n",
      "16            4           6       3.00        0.00          -  13  \n",
      "17            4           3       3.00        2.00       0.00  14  \n",
      "18            6           3       0.00        4.00          -  15  \n",
      "19            6           0       0.00        6.00       6.00   6  \n",
      "20            2           3       0.00        6.00       0.00  16  \n",
      "21            4           6          -           -          -  17  \n",
      "22            4           6       0.00        0.00       0.00  18  \n",
      "23            4           6       0.00        8.00       0.00   8  \n"
     ]
    }
   ],
   "source": [
    "# Call the function and print the result. This result is used in subsequent questions.\n",
    "functions_df = Q3_function(filenames, s = \"Functions\")\n",
    "print(functions_df)\n"
   ]
  },
  {
   "cell_type": "code",
   "execution_count": 963,
   "metadata": {},
   "outputs": [],
   "source": [
    "def Q4_function(dataframe):\n",
    "    \"\"\"\n",
    "    :type : DataFrame\n",
    "    :rtype: [String], DataFrame, DataFrame\n",
    "    \"\"\"\n",
    "    # Find all the names of the columns and return as a list\n",
    "    column_names = list(dataframe)\n",
    "   \n",
    "    # Find the subset of the DataFrame\n",
    "    df_subset = dataframe.loc[:, [\"id\", \"Time taken\", \"Grade/45.00\", \"Q. 1 /5.00\", \"Q. 2 /10.00\", \"Q. 3 /6.00\", \"Q. 4 /6.00\", \"Q. 5 /12.00\", \"Q. 6 /6.00\"]]\n",
    "   \n",
    "    # Return the top 10 rows\n",
    "    top_10 = dataframe.head(10)\n",
    "   \n",
    "    return column_names[1:], df_subset, top_10"
   ]
  },
  {
   "cell_type": "code",
   "execution_count": 964,
   "metadata": {},
   "outputs": [
    {
     "name": "stdout",
     "output_type": "stream",
     "text": [
      "Column Names\n",
      "['State', 'Started on', 'Completed', 'Time taken', 'Grade/45.00', 'Q. 1 /5.00', 'Q. 2 /10.00', 'Q. 3 /6.00', 'Q. 4 /6.00', 'Q. 5 /12.00', 'Q. 6 /6.00', 'id']\n",
      "\n",
      "Subsetted Data\n",
      "    id       Time taken  Grade/45.00  Q. 1 /5.00  Q. 2 /10.00  Q. 3 /6.00  \\\n",
      "0    0  14 mins 16 secs           32           5            6           6   \n",
      "1    1  17 mins 54 secs           31           5            8           6   \n",
      "2   12  15 mins 44 secs           20           3            4           3   \n",
      "3    2          18 mins           30           5            6           6   \n",
      "4    3  17 mins 31 secs           26           5            6           6   \n",
      "5    4  17 mins 59 secs           25           5            6           6   \n",
      "6    5          18 mins           24           5            6           6   \n",
      "7    6          18 mins           23           5            6           0   \n",
      "8    7    18 mins 1 sec           23           4            4           6   \n",
      "9    8  16 mins 44 secs           22           4            4           6   \n",
      "10   9    18 mins 1 sec           22           5            8           6   \n",
      "11  10          18 mins           21           5           10           6   \n",
      "12   4  17 mins 59 secs           25           5            6           6   \n",
      "13   5          18 mins           24           5            6           6   \n",
      "14  11  12 mins 59 secs           21           4            4           3   \n",
      "15  12  15 mins 44 secs           20           3            4           3   \n",
      "16  13    18 mins 1 sec           17           4            4           6   \n",
      "17  14          18 mins           17           5            4           3   \n",
      "18  15    18 mins 1 sec           16           3            6           3   \n",
      "19   6          18 mins           23           5            6           0   \n",
      "20  16  48 mins 39 secs           15           4            2           3   \n",
      "21  17    18 mins 1 sec           13           3            4           6   \n",
      "22  18  14 mins 31 secs           13           3            4           6   \n",
      "23   8  16 mins 44 secs           22           4            4           6   \n",
      "\n",
      "   Q. 4 /6.00 Q. 5 /12.00 Q. 6 /6.00  \n",
      "0        3.00       12.00       0.00  \n",
      "1           -       12.00       0.00  \n",
      "2           -       10.00       0.00  \n",
      "3        3.00       10.00          -  \n",
      "4        3.00        6.00       0.00  \n",
      "5        6.00        2.00       0.00  \n",
      "6        3.00        4.00          -  \n",
      "7        0.00        6.00       6.00  \n",
      "8        3.00        6.00       0.00  \n",
      "9        0.00        8.00       0.00  \n",
      "10       3.00           -          -  \n",
      "11          -           -          -  \n",
      "12       6.00        2.00       0.00  \n",
      "13       3.00        4.00          -  \n",
      "14       0.00        4.00       6.00  \n",
      "15          -       10.00       0.00  \n",
      "16       3.00        0.00          -  \n",
      "17       3.00        2.00       0.00  \n",
      "18       0.00        4.00          -  \n",
      "19       0.00        6.00       6.00  \n",
      "20       0.00        6.00       0.00  \n",
      "21          -           -          -  \n",
      "22       0.00        0.00       0.00  \n",
      "23       0.00        8.00       0.00  \n",
      "\n",
      "Top 10 Rows\n",
      "   Unnamed: 0     State                 Started on  \\\n",
      "0           0  Finished   February 5 2018  3:19 PM   \n",
      "1           1  Finished   February 4 2018  4:01 PM   \n",
      "2          12  Finished   February 6 2018  3:57 PM   \n",
      "3           2  Finished  February 10 2018  4:05 PM   \n",
      "4           3  Finished   February 4 2018  4:59 PM   \n",
      "5           4  Finished   February 5 2018  5:20 PM   \n",
      "6           5  Finished  February 10 2018  9:49 PM   \n",
      "7           6  Finished   February 5 2018  8:30 PM   \n",
      "8           7  Finished  February 13 2018  4:17 AM   \n",
      "9           8  Finished  February 12 2018  2:19 PM   \n",
      "\n",
      "                    Completed       Time taken  Grade/45.00  Q. 1 /5.00  \\\n",
      "0    February 5 2018  3:34 PM  14 mins 16 secs           32           5   \n",
      "1    February 4 2018  4:19 PM  17 mins 54 secs           31           5   \n",
      "2    February 6 2018  4:12 PM  15 mins 44 secs           20           3   \n",
      "3   February 10 2018  4:23 PM          18 mins           30           5   \n",
      "4    February 4 2018  5:16 PM  17 mins 31 secs           26           5   \n",
      "5    February 5 2018  5:38 PM  17 mins 59 secs           25           5   \n",
      "6  February 10 2018  10:07 PM          18 mins           24           5   \n",
      "7    February 5 2018  8:48 PM          18 mins           23           5   \n",
      "8   February 13 2018  4:35 AM    18 mins 1 sec           23           4   \n",
      "9   February 12 2018  2:35 PM  16 mins 44 secs           22           4   \n",
      "\n",
      "   Q. 2 /10.00  Q. 3 /6.00 Q. 4 /6.00 Q. 5 /12.00 Q. 6 /6.00  id  \n",
      "0            6           6       3.00       12.00       0.00   0  \n",
      "1            8           6          -       12.00       0.00   1  \n",
      "2            4           3          -       10.00       0.00  12  \n",
      "3            6           6       3.00       10.00          -   2  \n",
      "4            6           6       3.00        6.00       0.00   3  \n",
      "5            6           6       6.00        2.00       0.00   4  \n",
      "6            6           6       3.00        4.00          -   5  \n",
      "7            6           0       0.00        6.00       6.00   6  \n",
      "8            4           6       3.00        6.00       0.00   7  \n",
      "9            4           6       0.00        8.00       0.00   8  \n"
     ]
    }
   ],
   "source": [
    "names, df_subset, top_10 = Q4_function(functions_df)\n",
    "\n",
    "print(\"Column Names\")\n",
    "print(names)\n",
    "print()\n",
    "print(\"Subsetted Data\")\n",
    "print(df_subset)\n",
    "print()\n",
    "print(\"Top 10 Rows\")\n",
    "print(top_10)"
   ]
  },
  {
   "cell_type": "code",
   "execution_count": 965,
   "metadata": {},
   "outputs": [],
   "source": [
    "def Q5_function(df):\n",
    "   \n",
    "    \"\"\"\n",
    "    :type : DataFrame\n",
    "    :rtype: [String], DataFrame\n",
    "    \"\"\"\n",
    "    # Identify the data type of every column\n",
    "    column_types = df.dtypes.tolist()\n",
    "    \n",
    "    #Strip all white spaces from the columns\n",
    "    df.columns = [re.sub('\\s','',x) for x in df.columns]\n",
    "   \n",
    "    # Check if 'Time taken' column has NA or empty values and replace with 0\n",
    "    if df[\"Timetaken\"].isnull().any():\n",
    "        df[\"Timetaken\"].fillna(\"0 mins 0 sec\")\n",
    "   \n",
    "    def time_to_int(x):\n",
    "        match = re.search(r'(\\d{0,2}) mins (?:(\\d{0,2}) sec(?:s)?)?', x)\n",
    "        if match:\n",
    "            time = int(match.group(1))*60\n",
    "            if match.group(2):\n",
    "                #print(match.group(2))\n",
    "                time += int(match.group(2))\n",
    "            return time\n",
    "        else:\n",
    "            match = re.search(r'(\\d{0,2}) mins ?', x)\n",
    "            if match:\n",
    "                time = int(match.group(1))*60\n",
    "                return time\n",
    "    df[\"time\"] = df[\"Timetaken\"].apply(lambda x : time_to_int(x))\n",
    "    df = df.drop (\"Timetaken\", axis = 1)\n",
    "   \n",
    "    return column_types, df\n"
   ]
  },
  {
   "cell_type": "code",
   "execution_count": 966,
   "metadata": {},
   "outputs": [
    {
     "name": "stdout",
     "output_type": "stream",
     "text": [
      "Column Datatypes\n",
      "[dtype('int64'), dtype('O'), dtype('int64'), dtype('int64'), dtype('int64'), dtype('int64'), dtype('O'), dtype('O'), dtype('O')]\n",
      "\n",
      "New Update DataFrame\n",
      "    id  Grade/45.00  Q.1/5.00  Q.2/10.00  Q.3/6.00 Q.4/6.00 Q.5/12.00  \\\n",
      "0    0           32         5          6         6     3.00     12.00   \n",
      "1    1           31         5          8         6        -     12.00   \n",
      "2   12           20         3          4         3        -     10.00   \n",
      "3    2           30         5          6         6     3.00     10.00   \n",
      "4    3           26         5          6         6     3.00      6.00   \n",
      "5    4           25         5          6         6     6.00      2.00   \n",
      "6    5           24         5          6         6     3.00      4.00   \n",
      "7    6           23         5          6         0     0.00      6.00   \n",
      "8    7           23         4          4         6     3.00      6.00   \n",
      "9    8           22         4          4         6     0.00      8.00   \n",
      "10   9           22         5          8         6     3.00         -   \n",
      "11  10           21         5         10         6        -         -   \n",
      "12   4           25         5          6         6     6.00      2.00   \n",
      "13   5           24         5          6         6     3.00      4.00   \n",
      "14  11           21         4          4         3     0.00      4.00   \n",
      "15  12           20         3          4         3        -     10.00   \n",
      "16  13           17         4          4         6     3.00      0.00   \n",
      "17  14           17         5          4         3     3.00      2.00   \n",
      "18  15           16         3          6         3     0.00      4.00   \n",
      "19   6           23         5          6         0     0.00      6.00   \n",
      "20  16           15         4          2         3     0.00      6.00   \n",
      "21  17           13         3          4         6        -         -   \n",
      "22  18           13         3          4         6     0.00      0.00   \n",
      "23   8           22         4          4         6     0.00      8.00   \n",
      "\n",
      "   Q.6/6.00  time  \n",
      "0      0.00   856  \n",
      "1      0.00  1074  \n",
      "2      0.00   944  \n",
      "3         -  1080  \n",
      "4      0.00  1051  \n",
      "5      0.00  1079  \n",
      "6         -  1080  \n",
      "7      6.00  1080  \n",
      "8      0.00  1081  \n",
      "9      0.00  1004  \n",
      "10        -  1081  \n",
      "11        -  1080  \n",
      "12     0.00  1079  \n",
      "13        -  1080  \n",
      "14     6.00   779  \n",
      "15     0.00   944  \n",
      "16        -  1081  \n",
      "17     0.00  1080  \n",
      "18        -  1081  \n",
      "19     6.00  1080  \n",
      "20     0.00  2919  \n",
      "21        -  1081  \n",
      "22     0.00   871  \n",
      "23     0.00  1004  \n"
     ]
    }
   ],
   "source": [
    "column_types, Q5_df = Q5_function(df_subset)\n",
    "print(\"Column Datatypes\")\n",
    "print(column_types)\n",
    "print()\n",
    "print(\"New Update DataFrame\")\n",
    "print(Q5_df)"
   ]
  },
  {
   "cell_type": "code",
   "execution_count": 967,
   "metadata": {},
   "outputs": [],
   "source": [
    "def Q6_function(df):\n",
    "    \n",
    "    \"\"\"\n",
    "    :type : DataFrame\n",
    "    :rtype: DataFrame\n",
    "    \"\"\"\n",
    "    df1 = df.copy()\n",
    "   \n",
    "    # Identify which columns and convert them to int/float\n",
    "    df1[[\"Q.4/6.00\", \"Q.5/12.00\", \"Q.6/6.00\"]] = df1[[\"Q.4/6.00\", \"Q.5/12.00\", \"Q.6/6.00\"]].apply(pd.to_numeric, errors='coerce')\n",
    "   \n",
    "    # Remove duplicate rows from dataframe\n",
    "    df1.drop_duplicates(inplace = True)\n",
    "   \n",
    "    # Replace missing data with mean of other values\n",
    "    df1.fillna(df.mean(), inplace = True)\n",
    "\n",
    "    # Find the mean values of all columns except 'id'. Append these as a row to your dataframe\n",
    "    df1.loc[23] = df1.iloc[:, 1:].mean()\n",
    "    df1.fillna(max(df1.loc[:, \"id\"]) + 1, inplace=True)\n",
    "    return df1"
   ]
  },
  {
   "cell_type": "code",
   "execution_count": 968,
   "metadata": {},
   "outputs": [
    {
     "name": "stdout",
     "output_type": "stream",
     "text": [
      "      id  Grade/45.00  Q.1/5.00  Q.2/10.00  Q.3/6.00  Q.4/6.00  Q.5/12.00  \\\n",
      "0    0.0    32.000000  5.000000   6.000000  6.000000       3.0      12.00   \n",
      "1    1.0    31.000000  5.000000   8.000000  6.000000      19.0      12.00   \n",
      "2   12.0    20.000000  3.000000   4.000000  3.000000      19.0      10.00   \n",
      "3    2.0    30.000000  5.000000   6.000000  6.000000       3.0      10.00   \n",
      "4    3.0    26.000000  5.000000   6.000000  6.000000       3.0       6.00   \n",
      "5    4.0    25.000000  5.000000   6.000000  6.000000       6.0       2.00   \n",
      "6    5.0    24.000000  5.000000   6.000000  6.000000       3.0       4.00   \n",
      "7    6.0    23.000000  5.000000   6.000000  0.000000       0.0       6.00   \n",
      "8    7.0    23.000000  4.000000   4.000000  6.000000       3.0       6.00   \n",
      "9    8.0    22.000000  4.000000   4.000000  6.000000       0.0       8.00   \n",
      "10   9.0    22.000000  5.000000   8.000000  6.000000       3.0      19.00   \n",
      "11  10.0    21.000000  5.000000  10.000000  6.000000      19.0      19.00   \n",
      "14  11.0    21.000000  4.000000   4.000000  3.000000       0.0       4.00   \n",
      "16  13.0    17.000000  4.000000   4.000000  6.000000       3.0       0.00   \n",
      "17  14.0    17.000000  5.000000   4.000000  3.000000       3.0       2.00   \n",
      "18  15.0    16.000000  3.000000   6.000000  3.000000       0.0       4.00   \n",
      "20  16.0    15.000000  4.000000   2.000000  3.000000       0.0       6.00   \n",
      "21  17.0    13.000000  3.000000   4.000000  6.000000      19.0      19.00   \n",
      "22  18.0    13.000000  3.000000   4.000000  6.000000       0.0       0.00   \n",
      "23  19.0    21.631579  4.315789   5.368421  4.894737       2.0       5.75   \n",
      "\n",
      "    Q.6/6.00         time  \n",
      "0        0.0   856.000000  \n",
      "1        0.0  1074.000000  \n",
      "2        0.0   944.000000  \n",
      "3       19.0  1080.000000  \n",
      "4        0.0  1051.000000  \n",
      "5        0.0  1079.000000  \n",
      "6       19.0  1080.000000  \n",
      "7        6.0  1080.000000  \n",
      "8        0.0  1081.000000  \n",
      "9        0.0  1004.000000  \n",
      "10      19.0  1081.000000  \n",
      "11      19.0  1080.000000  \n",
      "14       6.0   779.000000  \n",
      "16      19.0  1081.000000  \n",
      "17       0.0  1080.000000  \n",
      "18      19.0  1081.000000  \n",
      "20       0.0  2919.000000  \n",
      "21      19.0  1081.000000  \n",
      "22       0.0   871.000000  \n",
      "23       1.0  1125.368421  \n"
     ]
    }
   ],
   "source": [
    "Q6_df = Q6_function(Q5_df)\n",
    "print(Q6_df)\n"
   ]
  },
  {
   "cell_type": "code",
   "execution_count": 969,
   "metadata": {},
   "outputs": [],
   "source": [
    "def Q7_function(file):\n",
    "    \"\"\"\n",
    "    :type : String\n",
    "    :rtype: Float\n",
    "    \"\"\"\n",
    "    df = Q3_function(filenames, s = file)\n",
    "    mean_,std_,q1,q2,q3,max_,min_ =  df[\"Grade/21.00\"].describe()[[\"mean\", \"std\", \"25%\", \"50%\", \"75%\", \"max\", \"min\"]].round(2)\n",
    "    return mean_,std_,q1,q2,q3,max_,min_"
   ]
  },
  {
   "cell_type": "code",
   "execution_count": 970,
   "metadata": {},
   "outputs": [
    {
     "name": "stdout",
     "output_type": "stream",
     "text": [
      "Mean: 14.83\n",
      "Std. Dev.: 2.19\n",
      "First Quantile 13.46\n",
      "Second Quantile 14.66\n",
      "Third Quantile 16.62\n",
      "Max: 18.5\n",
      "Min: 10.83\n"
     ]
    }
   ],
   "source": [
    "# Call the function and print the results.\n",
    "mean_,std_,q1,q2,q3,max_,min_ = Q7_function(file=\"Exceptions\")\n",
    "print(\"Mean:\", mean_)\n",
    "print(\"Std. Dev.:\", std_)\n",
    "print(\"First Quantile\", q1)\n",
    "print(\"Second Quantile\", q2)\n",
    "print(\"Third Quantile\", q3)\n",
    "print(\"Max:\", max_)\n",
    "print(\"Min:\", min_)"
   ]
  },
  {
   "cell_type": "code",
   "execution_count": 971,
   "metadata": {},
   "outputs": [],
   "source": [
    "def Q8_function(file):\n",
    "    #Compare the plot lines to the values calculated in the previous question.\n",
    "    df = Q3_function(filenames, file)\n",
    "    Q8_plot = df[['Grade/21.00']].plot.box(return_type='axes')\n",
    "    return Q8_plot"
   ]
  },
  {
   "cell_type": "code",
   "execution_count": 972,
   "metadata": {},
   "outputs": [
    {
     "data": {
      "text/plain": [
       "<matplotlib.axes._subplots.AxesSubplot at 0x1788edd21c8>"
      ]
     },
     "execution_count": 972,
     "metadata": {},
     "output_type": "execute_result"
    },
    {
     "data": {
      "image/png": "[encoded data removed]",
      "text/plain": [
       "<Figure size 432x288 with 1 Axes>"
      ]
     },
     "metadata": {
      "needs_background": "light"
     },
     "output_type": "display_data"
    }
   ],
   "source": [
    "# Call the function. Plot will display.\n",
    "Q8_function(file='Exceptions')"
   ]
  },
  {
   "cell_type": "code",
   "execution_count": 973,
   "metadata": {},
   "outputs": [],
   "source": [
    "def Q9_function(file):\n",
    "    #Return the number of rows and columns present in the 'Strings' dataset\n",
    "    df = Q3_function(filenames, file)\n",
    "    return df.shape\n",
    "    "
   ]
  },
  {
   "cell_type": "code",
   "execution_count": 974,
   "metadata": {},
   "outputs": [
    {
     "name": "stdout",
     "output_type": "stream",
     "text": [
      "Rows: 17\n",
      "Columns: 8\n"
     ]
    }
   ],
   "source": [
    "# Call the function and print the results\n",
    "rows, columns = Q9_function (file='Strings')\n",
    "print(\"Rows:\",rows)\n",
    "print(\"Columns:\",columns)"
   ]
  },
  {
   "cell_type": "code",
   "execution_count": 975,
   "metadata": {},
   "outputs": [],
   "source": [
    "def Q10_function(df):\n",
    "    #Which students scored 0\n",
    "    zero = df.groupby(['Q.5/12.00'])['id'].apply(list)[1]\n",
    "    #How many students achieved the maximum possible score\n",
    "    max_score = max(df.loc[:,'Q.5/12.00'])\n",
    "    maximum_list = df.groupby(['Q.5/12.00']).get_group(max_score)\n",
    "    maximum = len(maximum_list)  \n",
    "    #Consider NA/missing values as 0\n",
    "    zero_NA = df.groupby(['Q.5/12.00'])['id'].apply(list)[0]\n",
    "    zero.extend(zero_NA)\n",
    "    zero.sort()\n",
    "    return zero, maximum\n",
    "    "
   ]
  },
  {
   "cell_type": "code",
   "execution_count": 976,
   "metadata": {},
   "outputs": [
    {
     "name": "stdout",
     "output_type": "stream",
     "text": [
      "Students scoring zero : [9, 10, 13, 17, 18]\n",
      "Number of students with maximum score : 2\n"
     ]
    }
   ],
   "source": [
    "# Call the function and print the results\n",
    "zero, maximum = Q10_function(Q5_df)\n",
    "print(\"Students scoring zero :\",zero)\n",
    "print(\"Number of students with maximum score :\",maximum)"
   ]
  },
  {
   "cell_type": "code",
   "execution_count": 977,
   "metadata": {},
   "outputs": [],
   "source": [
    "def Q11_function():\n",
    "    #Call the function you wrote for Question 5 to convert time and remove spaces in columns\n",
    "    dftuples = Q3_function(filenames, \"Tuples\")\n",
    "    col_tuples, dftuples = Q5_function(dftuples)\n",
    "    dftaxonomy = Q3_function(filenames, \"Taxonomy\")\n",
    "    col_taxonomy, dftaxonomy = Q5_function(dftaxonomy)    \n",
    "    #Use the pd.merge() function.\n",
    "    Q11_df = pd.merge (dftuples, dftaxonomy, how = 'inner', on = 'id')\n",
    "    #Create a new column 'Total_score' which is the sum of the scores of the two quizzes.\n",
    "    Q11_df['Total_score'] = Q11_df[\"Grade/20.00\"] + Q11_df[\"Grade/21.00\"]\n",
    "    max_scorer = Q11_df.loc[Q11_df['Total_score'].idxmax()]['id']\n",
    "    return Q11_df,max_scorer\n"
   ]
  },
  {
   "cell_type": "code",
   "execution_count": 978,
   "metadata": {},
   "outputs": [
    {
     "name": "stdout",
     "output_type": "stream",
     "text": [
      "Max scorer : 10\n"
     ]
    }
   ],
   "source": [
    "# Call the function and print the results. The DataFrame will be used in subsequent questions\n",
    "Q11_df,max_scorer = Q11_function()\n",
    "print(\"Max scorer :\",max_scorer)"
   ]
  },
  {
   "cell_type": "code",
   "execution_count": 979,
   "metadata": {},
   "outputs": [],
   "source": [
    "def Q12_function(df):\n",
    "    #Sort the list before returning.\n",
    "    #Can you code it in one line?\n",
    "    df['TotalTime'] = df['time_x'] + df['time_y']\n",
    "    ids = df['id'].where((df.TotalTime < 1200)).dropna().astype(int).tolist()    \n",
    "    ids.sort()\n",
    "    df = df.drop(['TotalTime'], axis=1, inplace=True)\n",
    "    return ids"
   ]
  },
  {
   "cell_type": "code",
   "execution_count": 980,
   "metadata": {},
   "outputs": [
    {
     "name": "stdout",
     "output_type": "stream",
     "text": [
      "ID of students : [3, 4, 7, 8, 12, 18]\n"
     ]
    }
   ],
   "source": [
    "# Call the function and print the results.\n",
    "# Q12_function(Q11_df)\n",
    "ids = Q12_function(Q11_df)\n",
    "print(\"ID of students :\",ids)"
   ]
  },
  {
   "cell_type": "code",
   "execution_count": 981,
   "metadata": {},
   "outputs": [],
   "source": [
    "def Q13_function(df):   \n",
    "    #Use 5 bins\n",
    "    #Use 'cut' and 'groupby'.\n",
    "    df1 = df.copy()\n",
    "    df1 = df1.iloc[:-1]\n",
    "    df1['bins'] = pd.cut(df1['Grade/45.00'], 5)\n",
    "    bins = df1.groupby(['bins']).size()\n",
    "    res = pd.DataFrame({'bins':bins.index,'count':bins.values}) \n",
    "    return res\n"
   ]
  },
  {
   "cell_type": "code",
   "execution_count": 982,
   "metadata": {},
   "outputs": [
    {
     "name": "stdout",
     "output_type": "stream",
     "text": [
      "             bins  count\n",
      "0  (12.981, 16.8]      4\n",
      "1    (16.8, 20.6]      3\n",
      "2    (20.6, 24.4]      7\n",
      "3    (24.4, 28.2]      2\n",
      "4    (28.2, 32.0]      3\n"
     ]
    }
   ],
   "source": [
    "# Call the function and print the results.\n",
    "Q13_df = Q13_function(Q6_df)\n",
    "print(Q13_df)"
   ]
  },
  {
   "cell_type": "code",
   "execution_count": 983,
   "metadata": {},
   "outputs": [
    {
     "name": "stderr",
     "output_type": "stream",
     "text": [
      "test_Q01_function (__main__.TestNotebook) ... ok\n",
      "test_Q02_function (__main__.TestNotebook) ... ok\n",
      "test_Q03_function (__main__.TestNotebook) ... ok\n",
      "test_Q04_function (__main__.TestNotebook) ... ok\n",
      "test_Q05_function (__main__.TestNotebook) ... ok\n",
      "test_Q06_function (__main__.TestNotebook) ... ok\n",
      "test_Q07_function (__main__.TestNotebook) ... ok\n",
      "test_Q09_function (__main__.TestNotebook) ... ok\n",
      "test_Q10_function (__main__.TestNotebook) ... ok\n",
      "test_Q11_function (__main__.TestNotebook) ... ok\n",
      "test_Q12_function (__main__.TestNotebook) ... ok\n",
      "test_Q13_function (__main__.TestNotebook) ... ok\n",
      "\n",
      "----------------------------------------------------------------------\n",
      "Ran 12 tests in 0.169s\n",
      "\n",
      "OK\n"
     ]
    },
    {
     "data": {
      "text/plain": [
       "<unittest.main.TestProgram at 0x17890db4188>"
      ]
     },
     "execution_count": 983,
     "metadata": {},
     "output_type": "execute_result"
    }
   ],
   "source": [
    "import unittest\n",
    "import warnings\n",
    "class TestNotebook(unittest.TestCase):\n",
    "    \n",
    "    def test_Q01_function(self):\n",
    "        res = ['../data_raw\\\\Python-QUIZ Coercion (6 min.)-grades.xlsx', '../data_raw\\\\Python-QUIZ Conditionals (6 min.)-grades.xlsx', '../data_raw\\\\Python-QUIZ Dictionaries (10 min.)-grades.xlsx', '../data_raw\\\\Python-QUIZ Exceptions (10 min.)-grades.xlsx', '../data_raw\\\\Python-QUIZ Functions (18 min.)-grades.xlsx', '../data_raw\\\\Python-QUIZ Iterations (6 min.)-grades.xlsx', '../data_raw\\\\Python-QUIZ Lists (10 min.)-grades.xlsx', '../data_raw\\\\Python-QUIZ Sets (7 min)-grades.xlsx', '../data_raw\\\\Python-QUIZ Strings (5 min.)-grades.xlsx', '../data_raw\\\\Python-QUIZ Taxonomy of Python Data Structures (12 min.)-grades.xlsx', '../data_raw\\\\Python-QUIZ Tuples (10 min.)-grades.xlsx']\n",
    "        \n",
    "        result = Q1_function()\n",
    "        \n",
    "        self.assertEqual(res, result)\n",
    "\n",
    "\n",
    "    def test_Q02_function(self):\n",
    "        \n",
    "        ans='Python-QUIZ Lists (10 min.)-grades.xlsx'\n",
    "        \n",
    "        result=Q2_function(filenames, s = \"Lists\")\n",
    "        \n",
    "        #Handling removal of the path to check only filename\n",
    "        self.assertEqual(ans,result.split(\"/\")[-1].split(\"\\\\\")[-1])\n",
    "        \n",
    "    def test_Q03_function(self):\n",
    "        with warnings.catch_warnings():\n",
    "            warnings.filterwarnings(\"ignore\", category=PendingDeprecationWarning)\n",
    "            warnings.filterwarnings(\"ignore\", category=DeprecationWarning)\n",
    "           \n",
    "            cols_ans = ['State', 'Started on', 'Completed', 'Time taken', 'Grade/21.00', 'Q. 1 /10.00', 'Q. 2 /4.00', 'Q. 3 /7.00', 'id']\n",
    "       \n",
    "            result = Q3_function(filenames, s=\"Lists\")\n",
    "            self.assertEqual(cols_ans, list(result.columns[1:]))\n",
    "\n",
    "        \n",
    "    def test_Q04_function(self):\n",
    "        \n",
    "        cols_ans=['State', 'Started on', 'Completed', 'Time taken', 'Grade/45.00', 'Q. 1 /5.00', 'Q. 2 /10.00', 'Q. 3 /6.00', 'Q. 4 /6.00', 'Q. 5 /12.00', 'Q. 6 /6.00',  'id']\n",
    "        subset_cols_ans= [\"id\", \"Time taken\", \"Grade/45.00\", \"Q. 1 /5.00\", \"Q. 2 /10.00\", \"Q. 3 /6.00\", \"Q. 4 /6.00\", \"Q. 5 /12.00\", \"Q. 6 /6.00\"]\n",
    "        top_ans=10\n",
    "        \n",
    "        cols_result,subset_result,top_result=Q4_function(functions_df)\n",
    "\n",
    "        self.assertEqual(cols_ans,list(cols_result))\n",
    "        self.assertEqual(subset_cols_ans,list(subset_result.columns))\n",
    "        self.assertEqual(top_ans,len(top_result))\n",
    "     \n",
    "    def test_Q05_function(self):\n",
    "        mock_df = pd.DataFrame([[0,\"14 mins 16 secs\", \"32\", 5, 6, 6, \"3.00\", \"12.00\",\"0.00\"]], columns = [\"id\",\"Time taken\",\"Grade/45.00\",\"Q.1/5.00\",\"Q.2/10.00\",\"Q.3/6.00\",\"Q.4/6.00\",\"Q.5/12.00\",\"Q.6/6.00\"])\n",
    "        \n",
    "        ans_df = pd.DataFrame([[0, \"32\", 5, 6, 6, \"3.00\", \"12.00\",\"0.00\", 856 ]], columns = [\"id\",\"Grade/45.00\",\"Q.1/5.00\",\"Q.2/10.00\",\"Q.3/6.00\",\"Q.4/6.00\",\"Q.5/12.00\",\"Q.6/6.00\",\"time\"])\n",
    "                \n",
    "        result1, result2 = Q5_function(mock_df)                        \n",
    "        pd.testing.assert_frame_equal(ans_df, result2)\n",
    "\n",
    "\n",
    "\n",
    "    def test_Q06_function(self):\n",
    "       \n",
    "        cols_ans = ['id', 'Grade/45.00', 'Q.1/5.00', 'Q.2/10.00', 'Q.3/6.00', 'Q.4/6.00',\n",
    "       'Q.5/12.00', 'Q.6/6.00', 'time']\n",
    "       \n",
    "        Q6_df_result = Q6_function(Q5_df)\n",
    "       \n",
    "        self.assertEqual(cols_ans, list(Q6_df_result.columns))\n",
    "        \n",
    "    def test_Q07_function(self):\n",
    "        with warnings.catch_warnings():\n",
    "            warnings.filterwarnings(\"ignore\", category=PendingDeprecationWarning)\n",
    "            warnings.filterwarnings(\"ignore\", category=DeprecationWarning)\n",
    "            ans=(14.83,2.19,13.46,14.66,16.62,18.5,10.83) \n",
    "            result=Q7_function(file=\"Exceptions\")\n",
    "            self.assertEqual(ans, result)\n",
    "    \n",
    "    def test_Q09_function(self):\n",
    "        with warnings.catch_warnings():\n",
    "            warnings.filterwarnings(\"ignore\", category=PendingDeprecationWarning)\n",
    "            warnings.filterwarnings(\"ignore\", category=DeprecationWarning)\n",
    "            ans1 = 17\n",
    "            ans2 =  8\n",
    "\n",
    "            result1, result2 = Q9_function(file='Strings')\n",
    "            self.assertEqual(ans1, result1)\n",
    "            self.assertEqual(ans2, result2)\n",
    "    \n",
    "    def test_Q10_function(self):\n",
    "        ans1 = [9, 10, 13, 17, 18]\n",
    "        ans2 = 2\n",
    "        \n",
    "        result1, result2 = Q10_function(Q5_df)\n",
    "        self.assertEqual(ans1, result1)\n",
    "        self.assertEqual(ans2, result2)\n",
    "    \n",
    "    def test_Q11_function(self):\n",
    "        with warnings.catch_warnings():\n",
    "            warnings.filterwarnings(\"ignore\", category=PendingDeprecationWarning)\n",
    "            warnings.filterwarnings(\"ignore\", category=DeprecationWarning)\n",
    "            ans = 10\n",
    "            df, result = Q11_function()\n",
    "            self.assertEqual(ans, result)\n",
    "        \n",
    "        \n",
    "    def test_Q12_function(self):\n",
    "        ans=[3, 4, 7, 8, 12, 18]   \n",
    "        result=Q12_function(Q11_df)\n",
    "        self.assertEqual(ans, result)\n",
    "        \n",
    "    def test_Q13_function(self):\n",
    "            ans = [[15, 16, 17, 18], [12, 13, 14], [5, 6, 7, 8, 9, 10, 11], [3, 4], [0, 1, 2]]\n",
    "            temp = Q13_function(Q6_df)\n",
    "            result = temp['count'].tolist()\n",
    "\n",
    "            for x in range(len(ans)):\n",
    "                self.assertEqual(result[x], len(ans[x]))\n",
    "\n",
    "        \n",
    "unittest.main(argv=[''], verbosity=2, exit=False)"
   ]
  },
  {
   "cell_type": "code",
   "execution_count": null,
   "metadata": {},
   "outputs": [],
   "source": []
  }
 ],
 "metadata": {
  "kernelspec": {
   "display_name": "Python 3",
   "language": "python",
   "name": "python3"
  },
  "language_info": {
   "codemirror_mode": {
    "name": "ipython",
    "version": 3
   },
   "file_extension": ".py",
   "mimetype": "text/x-python",
   "name": "python",
   "nbconvert_exporter": "python",
   "pygments_lexer": "ipython3",
   "version": "3.7.4"
  }
 },
 "nbformat": 4,
 "nbformat_minor": 2
}
